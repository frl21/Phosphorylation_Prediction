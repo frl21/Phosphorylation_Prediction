{
 "cells": [
  {
   "cell_type": "code",
   "execution_count": 164,
   "metadata": {},
   "outputs": [],
   "source": [
    "import numpy as np\n",
    "import pandas as pd\n",
    "import keras\n",
    "import matplotlib.pyplot as plt\n",
    "from keras.layers.core import Dense, Activation, Flatten, Dropout\n",
    "from keras.layers import Conv2D, Embedding\n",
    "from keras.models import Sequential\n",
    "from keras.preprocessing.text import Tokenizer\n",
    "from sklearn.model_selection import train_test_split\n",
    "from sklearn import preprocessing\n",
    "from keras.utils import to_categorical\n",
    "from sklearn.metrics import f1_score, roc_auc_score, recall_score, confusion_matrix\n",
    "from keras.callbacks import ModelCheckpoint"
   ]
  },
  {
   "cell_type": "code",
   "execution_count": 184,
   "metadata": {},
   "outputs": [
    {
     "name": "stdout",
     "output_type": "stream",
     "text": [
      "(1543, 9)\n",
      "(1543, 1)\n"
     ]
    }
   ],
   "source": [
    "with open('fixed_sequences_length_9_PELM/Group_Phos_S_neg.fasta', 'r') as f:\n",
    "    s_negatif_txt = f.readlines()\n",
    "\n",
    "s_negatif = np.array([])\n",
    "for i in range(1,len(s_negatif_txt),2):\n",
    "    temp = s_negatif_txt[i]\n",
    "    temp1 = temp[0:9]\n",
    "    temp2 = list(temp1)\n",
    "    s_negatif = np.append(s_negatif, temp2)\n",
    "\n",
    "sequenceL = int(len(s_negatif)/9)\n",
    "s_negatif_new = np.expand_dims(s_negatif, axis=0)\n",
    "s_negatif_new = s_negatif_new.reshape(sequenceL,9)\n",
    "labelneg = np.zeros((sequenceL,), dtype=int)\n",
    "s_negatif_label = np.expand_dims(labelneg, axis=0)\n",
    "s_negatif_label = s_negatif_label.reshape(sequenceL,1)\n",
    "print(s_negatif_new.shape)\n",
    "print(s_negatif_label.shape)\n"
   ]
  },
  {
   "cell_type": "code",
   "execution_count": 185,
   "metadata": {},
   "outputs": [
    {
     "name": "stdout",
     "output_type": "stream",
     "text": [
      "(1554, 9)\n",
      "(1554, 1)\n"
     ]
    }
   ],
   "source": [
    "with open('fixed_sequences_length_9_PELM/Group_Phos_S_pos.fasta', 'r') as f:\n",
    "    s_positif_txt = f.readlines()\n",
    "\n",
    "s_positif = np.array([])\n",
    "for i in range(1,len(s_positif_txt),2):\n",
    "    temp = s_positif_txt[i]\n",
    "    temp1 = temp[0:9]\n",
    "    temp2 = list(temp1)\n",
    "    s_positif = np.append(s_positif, temp2)\n",
    "\n",
    "sequenceL = int(len(s_positif)/9)\n",
    "s_positif_new = np.expand_dims(s_positif, axis=0)\n",
    "s_positif_new = s_positif_new.reshape(sequenceL,9)\n",
    "labelpos = np.ones((sequenceL,), dtype=int)\n",
    "s_positif_label = np.expand_dims(labelpos, axis=0)\n",
    "s_positif_label = s_positif_label.reshape(sequenceL,1)\n",
    "print(s_positif_new.shape)\n",
    "print(s_positif_label.shape)\n"
   ]
  },
  {
   "cell_type": "code",
   "execution_count": 186,
   "metadata": {},
   "outputs": [
    {
     "name": "stdout",
     "output_type": "stream",
     "text": [
      "(3097, 9, 20, 1)\n",
      "(2477, 9)\n",
      "[ 2. 14. 15. 15. 15.  5. 19.  3.  6.]\n"
     ]
    },
    {
     "name": "stderr",
     "output_type": "stream",
     "text": [
      "/home/bharuno/envtensorflow/lib/python3.5/site-packages/ipykernel_launcher.py:16: DeprecationWarning: Both axis > a.ndim and axis < -a.ndim - 1 are deprecated and will raise an AxisError in the future.\n",
      "  app.launch_new_instance()\n"
     ]
    }
   ],
   "source": [
    "training_X = np.concatenate((s_positif_new, s_negatif_new), axis=0, out=None)\n",
    "training_Y = np.concatenate((s_positif_label, s_negatif_label), axis=0, out=None)\n",
    "\n",
    "training_Y_onehot = to_categorical(training_Y)\n",
    "\n",
    "asam = ['A','R','N','D','C','Q','E','G','H','I','L','K','M','F','P','S','T','W','Y','V']\n",
    "tokenizer = Tokenizer(char_level=True)\n",
    "tokenizer.fit_on_texts(asam)\n",
    "sequence_of_int = []\n",
    "for i in range(len(training_X)):\n",
    "    temp = tokenizer.texts_to_sequences(training_X[i])\n",
    "    sequence_of_int = np.append(sequence_of_int, temp)\n",
    "\n",
    "sequence_of_int = sequence_of_int-1\n",
    "sequence_of_int_onehot = to_categorical(sequence_of_int)\n",
    "sequence_of_int_onehot = np.expand_dims(sequence_of_int_onehot, axis=3)\n",
    "sequence_of_int_onehot = sequence_of_int_onehot.reshape(len(training_X),9,20,1)\n",
    "sequence_of_int = sequence_of_int.reshape(len(training_X),9)\n",
    "\n",
    "print(sequence_of_int_onehot.shape)\n",
    "train_X, valid_X, train_label, valid_label = train_test_split(sequence_of_int, training_Y_onehot, test_size=0.2, random_state=13)\n",
    "print(train_X.shape)\n",
    "print(valid_X[0])"
   ]
  },
  {
   "cell_type": "code",
   "execution_count": 187,
   "metadata": {},
   "outputs": [
    {
     "name": "stdout",
     "output_type": "stream",
     "text": [
      "_________________________________________________________________\n",
      "Layer (type)                 Output Shape              Param #   \n",
      "=================================================================\n",
      "embedding_44 (Embedding)     (None, 9, 4)              80        \n",
      "_________________________________________________________________\n",
      "flatten_45 (Flatten)         (None, 36)                0         \n",
      "_________________________________________________________________\n",
      "dense_168 (Dense)            (None, 64)                2368      \n",
      "_________________________________________________________________\n",
      "dropout_123 (Dropout)        (None, 64)                0         \n",
      "_________________________________________________________________\n",
      "dense_169 (Dense)            (None, 64)                4160      \n",
      "_________________________________________________________________\n",
      "dropout_124 (Dropout)        (None, 64)                0         \n",
      "_________________________________________________________________\n",
      "dense_170 (Dense)            (None, 64)                4160      \n",
      "_________________________________________________________________\n",
      "dropout_125 (Dropout)        (None, 64)                0         \n",
      "_________________________________________________________________\n",
      "dense_171 (Dense)            (None, 2)                 130       \n",
      "=================================================================\n",
      "Total params: 10,898\n",
      "Trainable params: 10,898\n",
      "Non-trainable params: 0\n",
      "_________________________________________________________________\n"
     ]
    }
   ],
   "source": [
    "epochs = 100\n",
    "\n",
    "model = Sequential()\n",
    "model.add(Embedding(20, 4, input_length=9))\n",
    "#model.add(Conv2D(1, kernel_size = (1,20), activation='relu', input_shape=(9,20,1)))\n",
    "model.add(Flatten(data_format=None))\n",
    "#model.add(Dense(128, activation='relu'))\n",
    "#model.add(Dense(128, activation='sigmoid'))\n",
    "model.add(Dense(64, activation='elu', kernel_initializer='he_uniform'))\n",
    "model.add(Dropout(0.7, noise_shape=None, seed=None))\n",
    "model.add(Dense(64, activation='elu', kernel_initializer='he_uniform'))\n",
    "model.add(Dropout(0.7, noise_shape=None, seed=None))\n",
    "model.add(Dense(64, activation='elu', kernel_initializer='he_uniform'))\n",
    "model.add(Dropout(0.7, noise_shape=None, seed=None))\n",
    "model.add(Dense(2, activation='softmax'))\n",
    "model.compile(loss='categorical_crossentropy', optimizer='adam',metrics=['accuracy'])\n",
    "checkpoint = ModelCheckpoint('save_best.hdf5', monitor='val_loss', verbose=0, save_best_only=True, save_weights_only=False, mode='auto', period=1)\n",
    "callback_list = [checkpoint]\n",
    "\n",
    "model.summary()\n"
   ]
  },
  {
   "cell_type": "code",
   "execution_count": 188,
   "metadata": {
    "scrolled": true
   },
   "outputs": [
    {
     "name": "stdout",
     "output_type": "stream",
     "text": [
      "Train on 2477 samples, validate on 620 samples\n",
      "Epoch 1/100\n",
      "2477/2477 [==============================] - 4s 2ms/step - loss: 0.7286 - acc: 0.5277 - val_loss: 0.6326 - val_acc: 0.7871\n",
      "Epoch 2/100\n",
      "2477/2477 [==============================] - 0s 64us/step - loss: 0.6006 - acc: 0.6568 - val_loss: 0.3875 - val_acc: 0.8903\n",
      "Epoch 3/100\n",
      "2477/2477 [==============================] - 0s 64us/step - loss: 0.3864 - acc: 0.8345 - val_loss: 0.2220 - val_acc: 0.9258\n",
      "Epoch 4/100\n",
      "2477/2477 [==============================] - 0s 63us/step - loss: 0.3115 - acc: 0.8773 - val_loss: 0.2117 - val_acc: 0.9194\n",
      "Epoch 5/100\n",
      "2477/2477 [==============================] - 0s 63us/step - loss: 0.2922 - acc: 0.8934 - val_loss: 0.2112 - val_acc: 0.9145\n",
      "Epoch 6/100\n",
      "2477/2477 [==============================] - 0s 64us/step - loss: 0.2873 - acc: 0.8890 - val_loss: 0.2038 - val_acc: 0.9226\n",
      "Epoch 7/100\n",
      "2477/2477 [==============================] - 0s 65us/step - loss: 0.2911 - acc: 0.8950 - val_loss: 0.2035 - val_acc: 0.9210\n",
      "Epoch 8/100\n",
      "2477/2477 [==============================] - 0s 65us/step - loss: 0.2682 - acc: 0.8962 - val_loss: 0.2077 - val_acc: 0.9177\n",
      "Epoch 9/100\n",
      "2477/2477 [==============================] - 0s 63us/step - loss: 0.2638 - acc: 0.9023 - val_loss: 0.2298 - val_acc: 0.9145\n",
      "Epoch 10/100\n",
      "2477/2477 [==============================] - 0s 64us/step - loss: 0.2558 - acc: 0.9063 - val_loss: 0.2080 - val_acc: 0.9194\n",
      "Epoch 11/100\n",
      "2477/2477 [==============================] - 0s 62us/step - loss: 0.2598 - acc: 0.9035 - val_loss: 0.2077 - val_acc: 0.9258\n",
      "Epoch 12/100\n",
      "2477/2477 [==============================] - 0s 64us/step - loss: 0.2481 - acc: 0.9055 - val_loss: 0.2115 - val_acc: 0.9210\n",
      "Epoch 13/100\n",
      "2477/2477 [==============================] - 0s 64us/step - loss: 0.2567 - acc: 0.9023 - val_loss: 0.2003 - val_acc: 0.9274\n",
      "Epoch 14/100\n",
      "2477/2477 [==============================] - 0s 62us/step - loss: 0.2611 - acc: 0.9031 - val_loss: 0.2064 - val_acc: 0.9226\n",
      "Epoch 15/100\n",
      "2477/2477 [==============================] - 0s 62us/step - loss: 0.2489 - acc: 0.9104 - val_loss: 0.2009 - val_acc: 0.9258\n",
      "Epoch 16/100\n",
      "2477/2477 [==============================] - 0s 63us/step - loss: 0.2420 - acc: 0.9160 - val_loss: 0.2039 - val_acc: 0.9194\n",
      "Epoch 17/100\n",
      "2477/2477 [==============================] - 0s 63us/step - loss: 0.2424 - acc: 0.9100 - val_loss: 0.2046 - val_acc: 0.9242\n",
      "Epoch 18/100\n",
      "2477/2477 [==============================] - 0s 65us/step - loss: 0.2288 - acc: 0.9193 - val_loss: 0.2039 - val_acc: 0.9226\n",
      "Epoch 19/100\n",
      "2477/2477 [==============================] - 0s 63us/step - loss: 0.2335 - acc: 0.9140 - val_loss: 0.2079 - val_acc: 0.9226\n",
      "Epoch 20/100\n",
      "2477/2477 [==============================] - 0s 64us/step - loss: 0.2354 - acc: 0.9164 - val_loss: 0.2009 - val_acc: 0.9177\n",
      "Epoch 21/100\n",
      "2477/2477 [==============================] - 0s 63us/step - loss: 0.2367 - acc: 0.9193 - val_loss: 0.2013 - val_acc: 0.9226\n",
      "Epoch 22/100\n",
      "2477/2477 [==============================] - 0s 62us/step - loss: 0.2348 - acc: 0.9176 - val_loss: 0.2097 - val_acc: 0.9210\n",
      "Epoch 23/100\n",
      "2477/2477 [==============================] - 0s 63us/step - loss: 0.2262 - acc: 0.9172 - val_loss: 0.2032 - val_acc: 0.9242\n",
      "Epoch 24/100\n",
      "2477/2477 [==============================] - 0s 64us/step - loss: 0.2286 - acc: 0.9201 - val_loss: 0.2132 - val_acc: 0.9194\n",
      "Epoch 25/100\n",
      "2477/2477 [==============================] - 0s 63us/step - loss: 0.2358 - acc: 0.9184 - val_loss: 0.2008 - val_acc: 0.9242\n",
      "Epoch 26/100\n",
      "2477/2477 [==============================] - 0s 62us/step - loss: 0.2324 - acc: 0.9184 - val_loss: 0.2054 - val_acc: 0.9226\n",
      "Epoch 27/100\n",
      "2477/2477 [==============================] - 0s 64us/step - loss: 0.2229 - acc: 0.9172 - val_loss: 0.1982 - val_acc: 0.9274\n",
      "Epoch 28/100\n",
      "2477/2477 [==============================] - 0s 63us/step - loss: 0.2208 - acc: 0.9229 - val_loss: 0.1984 - val_acc: 0.9242\n",
      "Epoch 29/100\n",
      "2477/2477 [==============================] - 0s 63us/step - loss: 0.2247 - acc: 0.9176 - val_loss: 0.2038 - val_acc: 0.9161\n",
      "Epoch 30/100\n",
      "2477/2477 [==============================] - 0s 62us/step - loss: 0.2215 - acc: 0.9209 - val_loss: 0.2097 - val_acc: 0.9194\n",
      "Epoch 31/100\n",
      "2477/2477 [==============================] - 0s 62us/step - loss: 0.2183 - acc: 0.9209 - val_loss: 0.2075 - val_acc: 0.9226\n",
      "Epoch 32/100\n",
      "2477/2477 [==============================] - 0s 63us/step - loss: 0.2244 - acc: 0.9237 - val_loss: 0.2117 - val_acc: 0.9194\n",
      "Epoch 33/100\n",
      "2477/2477 [==============================] - 0s 63us/step - loss: 0.2308 - acc: 0.9189 - val_loss: 0.2047 - val_acc: 0.9226\n",
      "Epoch 34/100\n",
      "2477/2477 [==============================] - 0s 64us/step - loss: 0.2299 - acc: 0.9197 - val_loss: 0.2082 - val_acc: 0.9177\n",
      "Epoch 35/100\n",
      "2477/2477 [==============================] - 0s 62us/step - loss: 0.2255 - acc: 0.9197 - val_loss: 0.2030 - val_acc: 0.9226\n",
      "Epoch 36/100\n",
      "2477/2477 [==============================] - 0s 63us/step - loss: 0.2191 - acc: 0.9213 - val_loss: 0.2049 - val_acc: 0.9290\n",
      "Epoch 37/100\n",
      "2477/2477 [==============================] - 0s 63us/step - loss: 0.2181 - acc: 0.9180 - val_loss: 0.2070 - val_acc: 0.9274\n",
      "Epoch 38/100\n",
      "2477/2477 [==============================] - 0s 63us/step - loss: 0.2223 - acc: 0.9176 - val_loss: 0.2060 - val_acc: 0.9242\n",
      "Epoch 39/100\n",
      "2477/2477 [==============================] - 0s 60us/step - loss: 0.2210 - acc: 0.9209 - val_loss: 0.2070 - val_acc: 0.9210\n",
      "Epoch 40/100\n",
      "2477/2477 [==============================] - 0s 61us/step - loss: 0.2190 - acc: 0.9261 - val_loss: 0.2081 - val_acc: 0.9242\n",
      "Epoch 41/100\n",
      "2477/2477 [==============================] - 0s 62us/step - loss: 0.2074 - acc: 0.9269 - val_loss: 0.2112 - val_acc: 0.9258\n",
      "Epoch 42/100\n",
      "2477/2477 [==============================] - 0s 67us/step - loss: 0.2260 - acc: 0.9249 - val_loss: 0.2067 - val_acc: 0.9194\n",
      "Epoch 43/100\n",
      "2477/2477 [==============================] - 0s 66us/step - loss: 0.2221 - acc: 0.9233 - val_loss: 0.2056 - val_acc: 0.9242\n",
      "Epoch 44/100\n",
      "2477/2477 [==============================] - 0s 76us/step - loss: 0.2201 - acc: 0.9217 - val_loss: 0.2032 - val_acc: 0.9194\n",
      "Epoch 45/100\n",
      "2477/2477 [==============================] - 0s 75us/step - loss: 0.2131 - acc: 0.9229 - val_loss: 0.2077 - val_acc: 0.9242\n",
      "Epoch 46/100\n",
      "2477/2477 [==============================] - 0s 74us/step - loss: 0.2068 - acc: 0.9225 - val_loss: 0.2102 - val_acc: 0.9274\n",
      "Epoch 47/100\n",
      "2477/2477 [==============================] - 0s 70us/step - loss: 0.2124 - acc: 0.9209 - val_loss: 0.2065 - val_acc: 0.9258\n",
      "Epoch 48/100\n",
      "2477/2477 [==============================] - 0s 72us/step - loss: 0.2154 - acc: 0.9294 - val_loss: 0.2078 - val_acc: 0.9323\n",
      "Epoch 49/100\n",
      "2477/2477 [==============================] - 0s 72us/step - loss: 0.2114 - acc: 0.9233 - val_loss: 0.2041 - val_acc: 0.9258\n",
      "Epoch 50/100\n",
      "2477/2477 [==============================] - 0s 70us/step - loss: 0.2140 - acc: 0.9229 - val_loss: 0.2072 - val_acc: 0.9226\n",
      "Epoch 51/100\n",
      "2477/2477 [==============================] - 0s 71us/step - loss: 0.2132 - acc: 0.9261 - val_loss: 0.2115 - val_acc: 0.9177\n",
      "Epoch 52/100\n",
      "2477/2477 [==============================] - 0s 70us/step - loss: 0.2119 - acc: 0.9229 - val_loss: 0.2060 - val_acc: 0.9194\n",
      "Epoch 53/100\n",
      "2477/2477 [==============================] - 0s 66us/step - loss: 0.2144 - acc: 0.9265 - val_loss: 0.2080 - val_acc: 0.9194\n",
      "Epoch 54/100\n",
      "2477/2477 [==============================] - 0s 65us/step - loss: 0.2223 - acc: 0.9294 - val_loss: 0.2104 - val_acc: 0.9226\n",
      "Epoch 55/100\n",
      "2477/2477 [==============================] - 0s 64us/step - loss: 0.2071 - acc: 0.9261 - val_loss: 0.2123 - val_acc: 0.9274\n",
      "Epoch 56/100\n",
      "2477/2477 [==============================] - 0s 66us/step - loss: 0.2143 - acc: 0.9261 - val_loss: 0.2102 - val_acc: 0.9226\n",
      "Epoch 57/100\n",
      "2477/2477 [==============================] - 0s 64us/step - loss: 0.2131 - acc: 0.9277 - val_loss: 0.2099 - val_acc: 0.9242\n",
      "Epoch 58/100\n",
      "2477/2477 [==============================] - 0s 65us/step - loss: 0.2117 - acc: 0.9257 - val_loss: 0.2167 - val_acc: 0.9210\n",
      "Epoch 59/100\n",
      "2477/2477 [==============================] - 0s 73us/step - loss: 0.2094 - acc: 0.9245 - val_loss: 0.2085 - val_acc: 0.9226\n",
      "Epoch 60/100\n"
     ]
    },
    {
     "name": "stdout",
     "output_type": "stream",
     "text": [
      "2477/2477 [==============================] - 0s 65us/step - loss: 0.2037 - acc: 0.9281 - val_loss: 0.2134 - val_acc: 0.9145\n",
      "Epoch 61/100\n",
      "2477/2477 [==============================] - 0s 66us/step - loss: 0.2059 - acc: 0.9310 - val_loss: 0.2127 - val_acc: 0.9177\n",
      "Epoch 62/100\n",
      "2477/2477 [==============================] - 0s 67us/step - loss: 0.2106 - acc: 0.9285 - val_loss: 0.2149 - val_acc: 0.9226\n",
      "Epoch 63/100\n",
      "2477/2477 [==============================] - 0s 64us/step - loss: 0.2073 - acc: 0.9253 - val_loss: 0.2174 - val_acc: 0.9210\n",
      "Epoch 64/100\n",
      "2477/2477 [==============================] - 0s 62us/step - loss: 0.2043 - acc: 0.9285 - val_loss: 0.2182 - val_acc: 0.9226\n",
      "Epoch 65/100\n",
      "2477/2477 [==============================] - 0s 60us/step - loss: 0.2168 - acc: 0.9281 - val_loss: 0.2114 - val_acc: 0.9210\n",
      "Epoch 66/100\n",
      "2477/2477 [==============================] - 0s 62us/step - loss: 0.2043 - acc: 0.9302 - val_loss: 0.2106 - val_acc: 0.9210\n",
      "Epoch 67/100\n",
      "2477/2477 [==============================] - 0s 68us/step - loss: 0.2114 - acc: 0.9298 - val_loss: 0.2131 - val_acc: 0.9161\n",
      "Epoch 68/100\n",
      "2477/2477 [==============================] - 0s 67us/step - loss: 0.2108 - acc: 0.9306 - val_loss: 0.2205 - val_acc: 0.9113\n",
      "Epoch 69/100\n",
      "2477/2477 [==============================] - 0s 65us/step - loss: 0.2019 - acc: 0.9281 - val_loss: 0.2113 - val_acc: 0.9290\n",
      "Epoch 70/100\n",
      "2477/2477 [==============================] - 0s 62us/step - loss: 0.2088 - acc: 0.9273 - val_loss: 0.2192 - val_acc: 0.9048\n",
      "Epoch 71/100\n",
      "2477/2477 [==============================] - 0s 64us/step - loss: 0.2151 - acc: 0.9241 - val_loss: 0.2116 - val_acc: 0.9274\n",
      "Epoch 72/100\n",
      "2477/2477 [==============================] - 0s 63us/step - loss: 0.2042 - acc: 0.9289 - val_loss: 0.2194 - val_acc: 0.9097\n",
      "Epoch 73/100\n",
      "2477/2477 [==============================] - 0s 65us/step - loss: 0.2108 - acc: 0.9277 - val_loss: 0.2202 - val_acc: 0.9226\n",
      "Epoch 74/100\n",
      "2477/2477 [==============================] - 0s 67us/step - loss: 0.2122 - acc: 0.9298 - val_loss: 0.2182 - val_acc: 0.9210\n",
      "Epoch 75/100\n",
      "2477/2477 [==============================] - 0s 64us/step - loss: 0.2122 - acc: 0.9233 - val_loss: 0.2099 - val_acc: 0.9242\n",
      "Epoch 76/100\n",
      "2477/2477 [==============================] - 0s 69us/step - loss: 0.2086 - acc: 0.9281 - val_loss: 0.2162 - val_acc: 0.9226\n",
      "Epoch 77/100\n",
      "2477/2477 [==============================] - 0s 66us/step - loss: 0.2105 - acc: 0.9306 - val_loss: 0.2160 - val_acc: 0.9177\n",
      "Epoch 78/100\n",
      "2477/2477 [==============================] - 0s 65us/step - loss: 0.2037 - acc: 0.9306 - val_loss: 0.2148 - val_acc: 0.9210\n",
      "Epoch 79/100\n",
      "2477/2477 [==============================] - 0s 63us/step - loss: 0.2096 - acc: 0.9277 - val_loss: 0.2099 - val_acc: 0.9210\n",
      "Epoch 80/100\n",
      "2477/2477 [==============================] - 0s 64us/step - loss: 0.2089 - acc: 0.9249 - val_loss: 0.2162 - val_acc: 0.9145\n",
      "Epoch 81/100\n",
      "2477/2477 [==============================] - 0s 64us/step - loss: 0.2103 - acc: 0.9306 - val_loss: 0.2136 - val_acc: 0.9306\n",
      "Epoch 82/100\n",
      "2477/2477 [==============================] - 0s 65us/step - loss: 0.2048 - acc: 0.9294 - val_loss: 0.2106 - val_acc: 0.9194\n",
      "Epoch 83/100\n",
      "2477/2477 [==============================] - 0s 65us/step - loss: 0.2045 - acc: 0.9318 - val_loss: 0.2080 - val_acc: 0.9258\n",
      "Epoch 84/100\n",
      "2477/2477 [==============================] - 0s 65us/step - loss: 0.2101 - acc: 0.9289 - val_loss: 0.2090 - val_acc: 0.9290\n",
      "Epoch 85/100\n",
      "2477/2477 [==============================] - 0s 63us/step - loss: 0.2068 - acc: 0.9306 - val_loss: 0.2121 - val_acc: 0.9258\n",
      "Epoch 86/100\n",
      "2477/2477 [==============================] - 0s 69us/step - loss: 0.2086 - acc: 0.9237 - val_loss: 0.2137 - val_acc: 0.9194\n",
      "Epoch 87/100\n",
      "2477/2477 [==============================] - 0s 67us/step - loss: 0.2097 - acc: 0.9277 - val_loss: 0.2185 - val_acc: 0.9161\n",
      "Epoch 88/100\n",
      "2477/2477 [==============================] - 0s 68us/step - loss: 0.2060 - acc: 0.9269 - val_loss: 0.2130 - val_acc: 0.9258\n",
      "Epoch 89/100\n",
      "2477/2477 [==============================] - 0s 69us/step - loss: 0.2088 - acc: 0.9306 - val_loss: 0.2147 - val_acc: 0.9290\n",
      "Epoch 90/100\n",
      "2477/2477 [==============================] - 0s 64us/step - loss: 0.2092 - acc: 0.9326 - val_loss: 0.2148 - val_acc: 0.9097\n",
      "Epoch 91/100\n",
      "2477/2477 [==============================] - 0s 64us/step - loss: 0.2062 - acc: 0.9269 - val_loss: 0.2140 - val_acc: 0.9161\n",
      "Epoch 92/100\n",
      "2477/2477 [==============================] - 0s 65us/step - loss: 0.2101 - acc: 0.9289 - val_loss: 0.2169 - val_acc: 0.9113\n",
      "Epoch 93/100\n",
      "2477/2477 [==============================] - 0s 63us/step - loss: 0.2077 - acc: 0.9314 - val_loss: 0.2147 - val_acc: 0.9226\n",
      "Epoch 94/100\n",
      "2477/2477 [==============================] - 0s 64us/step - loss: 0.1966 - acc: 0.9314 - val_loss: 0.2161 - val_acc: 0.9290\n",
      "Epoch 95/100\n",
      "2477/2477 [==============================] - 0s 65us/step - loss: 0.2040 - acc: 0.9322 - val_loss: 0.2158 - val_acc: 0.9258\n",
      "Epoch 96/100\n",
      "2477/2477 [==============================] - 0s 65us/step - loss: 0.2105 - acc: 0.9289 - val_loss: 0.2184 - val_acc: 0.9242\n",
      "Epoch 97/100\n",
      "2477/2477 [==============================] - 0s 64us/step - loss: 0.2095 - acc: 0.9289 - val_loss: 0.2198 - val_acc: 0.9226\n",
      "Epoch 98/100\n",
      "2477/2477 [==============================] - 0s 68us/step - loss: 0.2058 - acc: 0.9245 - val_loss: 0.2187 - val_acc: 0.9210\n",
      "Epoch 99/100\n",
      "2477/2477 [==============================] - 0s 67us/step - loss: 0.1999 - acc: 0.9334 - val_loss: 0.2164 - val_acc: 0.9177\n",
      "Epoch 100/100\n",
      "2477/2477 [==============================] - 0s 66us/step - loss: 0.2032 - acc: 0.9294 - val_loss: 0.2212 - val_acc: 0.9210\n"
     ]
    }
   ],
   "source": [
    "model_train = model.fit(train_X, train_label, epochs=epochs, batch_size=32, validation_data=(valid_X, valid_label), callbacks=callback_list)"
   ]
  },
  {
   "cell_type": "code",
   "execution_count": 189,
   "metadata": {},
   "outputs": [
    {
     "data": {
      "image/png": "[encoded data removed]",
      "text/plain": [
       "<Figure size 432x288 with 1 Axes>"
      ]
     },
     "metadata": {
      "needs_background": "light"
     },
     "output_type": "display_data"
    },
    {
     "data": {
      "image/png": "[encoded data removed]",
      "text/plain": [
       "<Figure size 432x288 with 1 Axes>"
      ]
     },
     "metadata": {
      "needs_background": "light"
     },
     "output_type": "display_data"
    }
   ],
   "source": [
    "# Plot the training accuracy\n",
    "accuracy = model_train.history['acc']\n",
    "val_accuracy = model_train.history['val_acc']\n",
    "loss = model_train.history['loss']\n",
    "val_loss = model_train.history['val_loss']\n",
    "epochs = range(len(accuracy))\n",
    "plt.plot(epochs, accuracy, 'bo', label='Training accuracy')\n",
    "plt.plot(epochs, val_accuracy, 'b', label='Validation accuracy')\n",
    "plt.title('Training and validation accuracy')\n",
    "plt.legend()\n",
    "plt.figure()\n",
    "plt.plot(epochs, loss, 'bo', label='Training loss')\n",
    "plt.plot(epochs, val_loss, 'b', label='Validation loss')\n",
    "plt.title('Training and validation loss')\n",
    "plt.legend()\n",
    "plt.show()"
   ]
  },
  {
   "cell_type": "code",
   "execution_count": 190,
   "metadata": {},
   "outputs": [
    {
     "name": "stdout",
     "output_type": "stream",
     "text": [
      "Accuracy : 0.9274193548387096\n",
      "AUC : 0.9269977906540497\n",
      "F1 : 0.9306625577812019\n",
      "Sensitivity : 0.937888198757764\n",
      "Specificity : 0.9161073825503355\n",
      "MCC : 0.8546415538164162\n"
     ]
    }
   ],
   "source": [
    "model.load_weights(\"save_best.hdf5\")\n",
    "y_pred = np.argmax(model.predict(valid_X), axis=1)\n",
    "y_true = np.argmax(valid_label, axis = 1)\n",
    "\n",
    "tn, fp, fn, tp = confusion_matrix(y_true, y_pred).ravel()\n",
    "f1 = f1_score(y_true, y_pred, labels=None, pos_label=1, average='binary', sample_weight=None)\n",
    "auc = roc_auc_score(y_true, y_pred, average='macro', sample_weight=None, max_fpr=None)\n",
    "sensi = tp/(tp+fn)\n",
    "specificity = tn/(tn+fp)\n",
    "accu = (tn + tp)/(tn + tp + fn + fp)\n",
    "mcc = ((tp*tn)-(fp*fn))/np.sqrt((tp+fp)*(tp+fn)*(tn+fp)*(tn+fn))\n",
    "\n",
    "print('Accuracy :', accu)\n",
    "print('AUC :', auc)\n",
    "print('F1 :', f1)\n",
    "print('Sensitivity :', sensi)\n",
    "print('Specificity :', specificity)\n",
    "print('MCC :', mcc)"
   ]
  }
 ],
 "metadata": {
  "kernelspec": {
   "display_name": "Python 3",
   "language": "python",
   "name": "python3"
  },
  "language_info": {
   "codemirror_mode": {
    "name": "ipython",
    "version": 3
   },
   "file_extension": ".py",
   "mimetype": "text/x-python",
   "name": "python",
   "nbconvert_exporter": "python",
   "pygments_lexer": "ipython3",
   "version": "3.5.2"
  }
 },
 "nbformat": 4,
 "nbformat_minor": 2
}
