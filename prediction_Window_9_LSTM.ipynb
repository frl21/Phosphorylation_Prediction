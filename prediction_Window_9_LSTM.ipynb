{
 "cells": [
  {
   "cell_type": "code",
   "execution_count": 32,
   "metadata": {},
   "outputs": [],
   "source": [
    "import numpy as np\n",
    "import pandas as pd\n",
    "import keras\n",
    "import matplotlib.pyplot as plt\n",
    "from keras.layers.core import Dense, Activation, Flatten, Dropout\n",
    "from keras.layers import Conv2D, LSTM, Embedding, Bidirectional\n",
    "from keras.models import Sequential\n",
    "from keras.preprocessing.text import Tokenizer\n",
    "from sklearn.model_selection import train_test_split\n",
    "from sklearn import preprocessing\n",
    "from keras.utils import to_categorical\n",
    "from keras import regularizers"
   ]
  },
  {
   "cell_type": "code",
   "execution_count": 49,
   "metadata": {},
   "outputs": [
    {
     "name": "stdout",
     "output_type": "stream",
     "text": [
      "(226, 9)\n",
      "(226, 1)\n"
     ]
    }
   ],
   "source": [
    "with open('fixed_sequences_length_9_PELM/Group_Phos_Y_neg.fasta', 'r') as f:\n",
    "    s_negatif_txt = f.readlines()\n",
    "\n",
    "s_negatif = np.array([])\n",
    "for i in range(1,len(s_negatif_txt),2):\n",
    "    temp = s_negatif_txt[i]\n",
    "    temp1 = temp[0:9]\n",
    "    temp2 = list(temp1)\n",
    "    s_negatif = np.append(s_negatif, temp2)\n",
    "\n",
    "sequenceL = int(len(s_negatif)/9)\n",
    "s_negatif_new = np.expand_dims(s_negatif, axis=0)\n",
    "s_negatif_new = s_negatif_new.reshape(sequenceL,9)\n",
    "labelneg = np.zeros((sequenceL,), dtype=int)\n",
    "s_negatif_label = np.expand_dims(labelneg, axis=0)\n",
    "s_negatif_label = s_negatif_label.reshape(sequenceL,1)\n",
    "print(s_negatif_new.shape)\n",
    "print(s_negatif_label.shape)\n"
   ]
  },
  {
   "cell_type": "code",
   "execution_count": 50,
   "metadata": {},
   "outputs": [
    {
     "name": "stdout",
     "output_type": "stream",
     "text": [
      "(267, 9)\n",
      "(267, 1)\n"
     ]
    }
   ],
   "source": [
    "with open('fixed_sequences_length_9_PELM/Group_Phos_Y_pos.fasta', 'r') as f:\n",
    "    s_positif_txt = f.readlines()\n",
    "\n",
    "s_positif = np.array([])\n",
    "for i in range(1,len(s_positif_txt),2):\n",
    "    temp = s_positif_txt[i]\n",
    "    temp1 = temp[0:9]\n",
    "    temp2 = list(temp1)\n",
    "    s_positif = np.append(s_positif, temp2)\n",
    "\n",
    "sequenceL = int(len(s_positif)/9)\n",
    "s_positif_new = np.expand_dims(s_positif, axis=0)\n",
    "s_positif_new = s_positif_new.reshape(sequenceL,9)\n",
    "labelpos = np.ones((sequenceL,), dtype=int)\n",
    "s_positif_label = np.expand_dims(labelpos, axis=0)\n",
    "s_positif_label = s_positif_label.reshape(sequenceL,1)\n",
    "print(s_positif_new.shape)\n",
    "print(s_positif_label.shape)\n"
   ]
  },
  {
   "cell_type": "code",
   "execution_count": 52,
   "metadata": {},
   "outputs": [
    {
     "name": "stdout",
     "output_type": "stream",
     "text": [
      "(493, 9, 20, 1)\n",
      "(394, 9)\n",
      "[ 5.  1.  3. 10. 18. 15.  7. 10.  2.]\n"
     ]
    },
    {
     "name": "stderr",
     "output_type": "stream",
     "text": [
      "/home/bharuno/envtensorflow/lib/python3.5/site-packages/ipykernel_launcher.py:16: DeprecationWarning: Both axis > a.ndim and axis < -a.ndim - 1 are deprecated and will raise an AxisError in the future.\n",
      "  app.launch_new_instance()\n"
     ]
    }
   ],
   "source": [
    "training_X = np.concatenate((s_positif_new, s_negatif_new), axis=0, out=None)\n",
    "training_Y = np.concatenate((s_positif_label, s_negatif_label), axis=0, out=None)\n",
    "\n",
    "training_Y_onehot = to_categorical(training_Y)\n",
    "\n",
    "asam = ['A','R','N','D','C','Q','E','G','H','I','L','K','M','F','P','S','T','W','Y','V']\n",
    "tokenizer = Tokenizer(char_level=True)\n",
    "tokenizer.fit_on_texts(asam)\n",
    "sequence_of_int = []\n",
    "for i in range(len(training_X)):\n",
    "    temp = tokenizer.texts_to_sequences(training_X[i])\n",
    "    sequence_of_int = np.append(sequence_of_int, temp)\n",
    "\n",
    "sequence_of_int = sequence_of_int-1\n",
    "sequence_of_int_onehot = to_categorical(sequence_of_int)\n",
    "sequence_of_int_onehot = np.expand_dims(sequence_of_int_onehot, axis=3)\n",
    "sequence_of_int_onehot = sequence_of_int_onehot.reshape(len(training_X),9,20,1)\n",
    "sequence_of_int = sequence_of_int.reshape(len(training_X),9)\n",
    "\n",
    "print(sequence_of_int_onehot.shape)\n",
    "train_X, valid_X, train_label, valid_label = train_test_split(sequence_of_int, training_Y_onehot, test_size=0.2, random_state=13)\n",
    "print(train_X.shape)\n",
    "print(valid_X[0])"
   ]
  },
  {
   "cell_type": "code",
   "execution_count": 53,
   "metadata": {
    "scrolled": true
   },
   "outputs": [
    {
     "name": "stdout",
     "output_type": "stream",
     "text": [
      "_________________________________________________________________\n",
      "Layer (type)                 Output Shape              Param #   \n",
      "=================================================================\n",
      "embedding_17 (Embedding)     (None, 9, 8)              160       \n",
      "_________________________________________________________________\n",
      "bidirectional_12 (Bidirectio (None, 256)               140288    \n",
      "_________________________________________________________________\n",
      "dense_25 (Dense)             (None, 2)                 514       \n",
      "=================================================================\n",
      "Total params: 140,962\n",
      "Trainable params: 140,962\n",
      "Non-trainable params: 0\n",
      "_________________________________________________________________\n"
     ]
    }
   ],
   "source": [
    "epochs = 100\n",
    "\n",
    "model = Sequential()\n",
    "model.add(Embedding(20, 8, input_length=9))\n",
    "#model.add(Conv2D(1, kernel_size = (1,20), activation='relu', input_shape=(9,20,1)))\n",
    "#model.add(Flatten(data_format=None))\n",
    "#model.add(Dense(128, activation='relu'))\n",
    "#model.add(Dense(128, activation='sigmoid'))\n",
    "model.add(Bidirectional(LSTM(128, kernel_regularizer=regularizers.l2(0.1), recurrent_regularizer=regularizers.l2(0.1), \n",
    "                             bias_regularizer=regularizers.l2(0.1)), merge_mode='concat', weights=None))\n",
    "model.add(Dense(2, activation='softmax'))\n",
    "model.compile(loss='categorical_crossentropy', optimizer='adam',metrics=['accuracy'])\n",
    "\n",
    "model.summary()\n"
   ]
  },
  {
   "cell_type": "code",
   "execution_count": 54,
   "metadata": {},
   "outputs": [
    {
     "name": "stdout",
     "output_type": "stream",
     "text": [
      "Train on 394 samples, validate on 99 samples\n",
      "Epoch 1/100\n",
      "394/394 [==============================] - 3s 9ms/step - loss: 49.7444 - acc: 0.5203 - val_loss: 43.6561 - val_acc: 0.5253\n",
      "Epoch 2/100\n",
      "394/394 [==============================] - 0s 341us/step - loss: 40.0382 - acc: 0.5457 - val_loss: 36.0092 - val_acc: 0.5253\n",
      "Epoch 3/100\n",
      "394/394 [==============================] - 0s 333us/step - loss: 33.6621 - acc: 0.5457 - val_loss: 31.0546 - val_acc: 0.5253\n",
      "Epoch 4/100\n",
      "394/394 [==============================] - 0s 360us/step - loss: 29.5242 - acc: 0.5457 - val_loss: 27.8083 - val_acc: 0.5253\n",
      "Epoch 5/100\n",
      "394/394 [==============================] - 0s 341us/step - loss: 26.7765 - acc: 0.5457 - val_loss: 25.6035 - val_acc: 0.5253\n",
      "Epoch 6/100\n",
      "394/394 [==============================] - 0s 326us/step - loss: 24.8757 - acc: 0.5457 - val_loss: 24.0335 - val_acc: 0.5253\n",
      "Epoch 7/100\n",
      "394/394 [==============================] - 0s 327us/step - loss: 23.4912 - acc: 0.5457 - val_loss: 22.8537 - val_acc: 0.5253\n",
      "Epoch 8/100\n",
      "394/394 [==============================] - 0s 332us/step - loss: 22.4254 - acc: 0.5457 - val_loss: 21.9140 - val_acc: 0.5253\n",
      "Epoch 9/100\n",
      "394/394 [==============================] - 0s 320us/step - loss: 21.5569 - acc: 0.5457 - val_loss: 21.1249 - val_acc: 0.5253\n",
      "Epoch 10/100\n",
      "394/394 [==============================] - 0s 369us/step - loss: 20.8146 - acc: 0.5457 - val_loss: 20.4333 - val_acc: 0.5253\n",
      "Epoch 11/100\n",
      "394/394 [==============================] - 0s 359us/step - loss: 20.1545 - acc: 0.5457 - val_loss: 19.8072 - val_acc: 0.5253\n",
      "Epoch 12/100\n",
      "394/394 [==============================] - 0s 376us/step - loss: 19.5467 - acc: 0.5457 - val_loss: 19.2222 - val_acc: 0.5253\n",
      "Epoch 13/100\n",
      "394/394 [==============================] - 0s 409us/step - loss: 18.9776 - acc: 0.5457 - val_loss: 18.6687 - val_acc: 0.5253\n",
      "Epoch 14/100\n",
      "394/394 [==============================] - 0s 400us/step - loss: 18.4338 - acc: 0.5457 - val_loss: 18.1374 - val_acc: 0.5253\n",
      "Epoch 15/100\n",
      "394/394 [==============================] - 0s 363us/step - loss: 17.9106 - acc: 0.5533 - val_loss: 17.6230 - val_acc: 0.6162\n",
      "Epoch 16/100\n",
      "394/394 [==============================] - 0s 316us/step - loss: 17.4039 - acc: 0.6777 - val_loss: 17.1232 - val_acc: 0.6768\n",
      "Epoch 17/100\n",
      "394/394 [==============================] - 0s 349us/step - loss: 16.9090 - acc: 0.6193 - val_loss: 16.6348 - val_acc: 0.6566\n",
      "Epoch 18/100\n",
      "394/394 [==============================] - 0s 359us/step - loss: 16.4237 - acc: 0.6193 - val_loss: 16.1547 - val_acc: 0.7071\n",
      "Epoch 19/100\n",
      "394/394 [==============================] - 0s 406us/step - loss: 15.9503 - acc: 0.7183 - val_loss: 15.6871 - val_acc: 0.7172\n",
      "Epoch 20/100\n",
      "394/394 [==============================] - 0s 405us/step - loss: 15.4852 - acc: 0.7234 - val_loss: 15.2298 - val_acc: 0.7374\n",
      "Epoch 21/100\n",
      "394/394 [==============================] - 0s 356us/step - loss: 15.0275 - acc: 0.7411 - val_loss: 14.7818 - val_acc: 0.7172\n",
      "Epoch 22/100\n",
      "394/394 [==============================] - 0s 344us/step - loss: 14.5835 - acc: 0.7462 - val_loss: 14.3460 - val_acc: 0.7475\n",
      "Epoch 23/100\n",
      "394/394 [==============================] - 0s 326us/step - loss: 14.1553 - acc: 0.7335 - val_loss: 13.9206 - val_acc: 0.7172\n",
      "Epoch 24/100\n",
      "394/394 [==============================] - 0s 379us/step - loss: 13.7326 - acc: 0.7513 - val_loss: 13.5090 - val_acc: 0.7273\n",
      "Epoch 25/100\n",
      "394/394 [==============================] - 0s 419us/step - loss: 13.3235 - acc: 0.7563 - val_loss: 13.1011 - val_acc: 0.7374\n",
      "Epoch 26/100\n",
      "394/394 [==============================] - 0s 412us/step - loss: 12.9281 - acc: 0.7716 - val_loss: 12.7063 - val_acc: 0.7374\n",
      "Epoch 27/100\n",
      "394/394 [==============================] - 0s 383us/step - loss: 12.5384 - acc: 0.7614 - val_loss: 12.3312 - val_acc: 0.7374\n",
      "Epoch 28/100\n",
      "394/394 [==============================] - 0s 317us/step - loss: 12.1598 - acc: 0.7538 - val_loss: 11.9575 - val_acc: 0.7475\n",
      "Epoch 29/100\n",
      "394/394 [==============================] - 0s 365us/step - loss: 11.7917 - acc: 0.7614 - val_loss: 11.5891 - val_acc: 0.7475\n",
      "Epoch 30/100\n",
      "394/394 [==============================] - 0s 327us/step - loss: 11.4318 - acc: 0.7487 - val_loss: 11.2345 - val_acc: 0.7475\n",
      "Epoch 31/100\n",
      "394/394 [==============================] - 0s 344us/step - loss: 11.0844 - acc: 0.7513 - val_loss: 10.8906 - val_acc: 0.7475\n",
      "Epoch 32/100\n",
      "394/394 [==============================] - 0s 372us/step - loss: 10.7400 - acc: 0.7513 - val_loss: 10.5562 - val_acc: 0.7374\n",
      "Epoch 33/100\n",
      "394/394 [==============================] - 0s 413us/step - loss: 10.4097 - acc: 0.7589 - val_loss: 10.2272 - val_acc: 0.7475\n",
      "Epoch 34/100\n",
      "394/394 [==============================] - 0s 410us/step - loss: 10.0834 - acc: 0.7690 - val_loss: 9.9206 - val_acc: 0.7374\n",
      "Epoch 35/100\n",
      "394/394 [==============================] - 0s 371us/step - loss: 9.7685 - acc: 0.7614 - val_loss: 9.5972 - val_acc: 0.7475\n",
      "Epoch 36/100\n",
      "394/394 [==============================] - 0s 346us/step - loss: 9.4617 - acc: 0.7563 - val_loss: 9.2961 - val_acc: 0.7475\n",
      "Epoch 37/100\n",
      "394/394 [==============================] - 0s 315us/step - loss: 9.1716 - acc: 0.7690 - val_loss: 9.0015 - val_acc: 0.7778\n",
      "Epoch 38/100\n",
      "394/394 [==============================] - 0s 307us/step - loss: 8.8841 - acc: 0.7437 - val_loss: 8.7211 - val_acc: 0.7374\n",
      "Epoch 39/100\n",
      "394/394 [==============================] - 0s 314us/step - loss: 8.5883 - acc: 0.7665 - val_loss: 8.4372 - val_acc: 0.7374\n",
      "Epoch 40/100\n",
      "394/394 [==============================] - 0s 310us/step - loss: 8.3229 - acc: 0.7538 - val_loss: 8.1779 - val_acc: 0.7475\n",
      "Epoch 41/100\n",
      "394/394 [==============================] - 0s 321us/step - loss: 8.0463 - acc: 0.7665 - val_loss: 7.8886 - val_acc: 0.7677\n",
      "Epoch 42/100\n",
      "394/394 [==============================] - 0s 394us/step - loss: 7.7834 - acc: 0.7563 - val_loss: 7.6482 - val_acc: 0.7475\n",
      "Epoch 43/100\n",
      "394/394 [==============================] - 0s 403us/step - loss: 7.5313 - acc: 0.7640 - val_loss: 7.3922 - val_acc: 0.7576\n",
      "Epoch 44/100\n",
      "394/394 [==============================] - 0s 398us/step - loss: 7.2835 - acc: 0.7614 - val_loss: 7.1574 - val_acc: 0.7374\n",
      "Epoch 45/100\n",
      "394/394 [==============================] - 0s 362us/step - loss: 7.0476 - acc: 0.7538 - val_loss: 6.9158 - val_acc: 0.7475\n",
      "Epoch 46/100\n",
      "394/394 [==============================] - 0s 399us/step - loss: 6.8116 - acc: 0.7665 - val_loss: 6.6827 - val_acc: 0.7576\n",
      "Epoch 47/100\n",
      "394/394 [==============================] - 0s 394us/step - loss: 6.5821 - acc: 0.7614 - val_loss: 6.4714 - val_acc: 0.7475\n",
      "Epoch 48/100\n",
      "394/394 [==============================] - 0s 333us/step - loss: 6.3632 - acc: 0.7640 - val_loss: 6.2474 - val_acc: 0.7374\n",
      "Epoch 49/100\n",
      "394/394 [==============================] - 0s 358us/step - loss: 6.1477 - acc: 0.7538 - val_loss: 6.0364 - val_acc: 0.7374\n",
      "Epoch 50/100\n",
      "394/394 [==============================] - 0s 362us/step - loss: 5.9457 - acc: 0.7614 - val_loss: 5.8380 - val_acc: 0.7374\n",
      "Epoch 51/100\n",
      "394/394 [==============================] - 0s 376us/step - loss: 5.7451 - acc: 0.7513 - val_loss: 5.6332 - val_acc: 0.7374\n",
      "Epoch 52/100\n",
      "394/394 [==============================] - 0s 353us/step - loss: 5.5418 - acc: 0.7640 - val_loss: 5.4467 - val_acc: 0.7374\n",
      "Epoch 53/100\n",
      "394/394 [==============================] - 0s 357us/step - loss: 5.3637 - acc: 0.7513 - val_loss: 5.2645 - val_acc: 0.7374\n",
      "Epoch 54/100\n",
      "394/394 [==============================] - 0s 360us/step - loss: 5.1814 - acc: 0.7589 - val_loss: 5.0919 - val_acc: 0.7374\n",
      "Epoch 55/100\n",
      "394/394 [==============================] - 0s 304us/step - loss: 4.9913 - acc: 0.7589 - val_loss: 4.8887 - val_acc: 0.7677\n",
      "Epoch 56/100\n",
      "394/394 [==============================] - 0s 391us/step - loss: 4.8232 - acc: 0.7640 - val_loss: 4.7356 - val_acc: 0.7374\n",
      "Epoch 57/100\n",
      "394/394 [==============================] - 0s 378us/step - loss: 4.6499 - acc: 0.7741 - val_loss: 4.5684 - val_acc: 0.7475\n",
      "Epoch 58/100\n",
      "394/394 [==============================] - 0s 369us/step - loss: 4.4876 - acc: 0.7640 - val_loss: 4.4019 - val_acc: 0.7576\n",
      "Epoch 59/100\n",
      "394/394 [==============================] - 0s 319us/step - loss: 4.3314 - acc: 0.7690 - val_loss: 4.2573 - val_acc: 0.7374\n",
      "Epoch 60/100\n"
     ]
    },
    {
     "name": "stdout",
     "output_type": "stream",
     "text": [
      "394/394 [==============================] - 0s 308us/step - loss: 4.1803 - acc: 0.7690 - val_loss: 4.1080 - val_acc: 0.7475\n",
      "Epoch 61/100\n",
      "394/394 [==============================] - 0s 309us/step - loss: 4.0386 - acc: 0.7716 - val_loss: 3.9637 - val_acc: 0.7475\n",
      "Epoch 62/100\n",
      "394/394 [==============================] - 0s 306us/step - loss: 3.8929 - acc: 0.7589 - val_loss: 3.8263 - val_acc: 0.7273\n",
      "Epoch 63/100\n",
      "394/394 [==============================] - 0s 310us/step - loss: 3.7574 - acc: 0.7741 - val_loss: 3.6814 - val_acc: 0.7475\n",
      "Epoch 64/100\n",
      "394/394 [==============================] - 0s 351us/step - loss: 3.6204 - acc: 0.7614 - val_loss: 3.5681 - val_acc: 0.7374\n",
      "Epoch 65/100\n",
      "394/394 [==============================] - 0s 350us/step - loss: 3.4891 - acc: 0.7716 - val_loss: 3.4234 - val_acc: 0.7475\n",
      "Epoch 66/100\n",
      "394/394 [==============================] - 0s 336us/step - loss: 3.3694 - acc: 0.7614 - val_loss: 3.3146 - val_acc: 0.7475\n",
      "Epoch 67/100\n",
      "394/394 [==============================] - 0s 303us/step - loss: 3.2423 - acc: 0.7716 - val_loss: 3.1851 - val_acc: 0.7475\n",
      "Epoch 68/100\n",
      "394/394 [==============================] - 0s 299us/step - loss: 3.1269 - acc: 0.7741 - val_loss: 3.0826 - val_acc: 0.7475\n",
      "Epoch 69/100\n",
      "394/394 [==============================] - 0s 305us/step - loss: 3.0154 - acc: 0.7792 - val_loss: 2.9627 - val_acc: 0.7475\n",
      "Epoch 70/100\n",
      "394/394 [==============================] - 0s 354us/step - loss: 2.9174 - acc: 0.7589 - val_loss: 2.8609 - val_acc: 0.7475\n",
      "Epoch 71/100\n",
      "394/394 [==============================] - 0s 339us/step - loss: 2.8043 - acc: 0.7690 - val_loss: 2.7618 - val_acc: 0.7475\n",
      "Epoch 72/100\n",
      "394/394 [==============================] - 0s 337us/step - loss: 2.6994 - acc: 0.7766 - val_loss: 2.6644 - val_acc: 0.7475\n",
      "Epoch 73/100\n",
      "394/394 [==============================] - 0s 327us/step - loss: 2.6057 - acc: 0.7741 - val_loss: 2.5671 - val_acc: 0.7475\n",
      "Epoch 74/100\n",
      "394/394 [==============================] - 0s 321us/step - loss: 2.5152 - acc: 0.7589 - val_loss: 2.4802 - val_acc: 0.7576\n",
      "Epoch 75/100\n",
      "394/394 [==============================] - 0s 336us/step - loss: 2.4297 - acc: 0.7640 - val_loss: 2.3930 - val_acc: 0.7475\n",
      "Epoch 76/100\n",
      "394/394 [==============================] - 0s 379us/step - loss: 2.3360 - acc: 0.7766 - val_loss: 2.3010 - val_acc: 0.7576\n",
      "Epoch 77/100\n",
      "394/394 [==============================] - 0s 319us/step - loss: 2.2473 - acc: 0.7741 - val_loss: 2.2315 - val_acc: 0.7475\n",
      "Epoch 78/100\n",
      "394/394 [==============================] - 0s 322us/step - loss: 2.1695 - acc: 0.7665 - val_loss: 2.1468 - val_acc: 0.7374\n",
      "Epoch 79/100\n",
      "394/394 [==============================] - 0s 339us/step - loss: 2.0934 - acc: 0.7716 - val_loss: 2.0648 - val_acc: 0.7677\n",
      "Epoch 80/100\n",
      "394/394 [==============================] - 0s 350us/step - loss: 2.0191 - acc: 0.7817 - val_loss: 1.9940 - val_acc: 0.7778\n",
      "Epoch 81/100\n",
      "394/394 [==============================] - 0s 348us/step - loss: 1.9531 - acc: 0.7640 - val_loss: 1.9294 - val_acc: 0.7475\n",
      "Epoch 82/100\n",
      "394/394 [==============================] - 0s 372us/step - loss: 1.8774 - acc: 0.7741 - val_loss: 1.8645 - val_acc: 0.7677\n",
      "Epoch 83/100\n",
      "394/394 [==============================] - 0s 370us/step - loss: 1.8167 - acc: 0.7589 - val_loss: 1.7964 - val_acc: 0.7576\n",
      "Epoch 84/100\n",
      "394/394 [==============================] - 0s 346us/step - loss: 1.7509 - acc: 0.7741 - val_loss: 1.7345 - val_acc: 0.7576\n",
      "Epoch 85/100\n",
      "394/394 [==============================] - 0s 333us/step - loss: 1.6862 - acc: 0.7766 - val_loss: 1.6729 - val_acc: 0.7778\n",
      "Epoch 86/100\n",
      "394/394 [==============================] - 0s 367us/step - loss: 1.6258 - acc: 0.7868 - val_loss: 1.6147 - val_acc: 0.7677\n",
      "Epoch 87/100\n",
      "394/394 [==============================] - 0s 368us/step - loss: 1.5698 - acc: 0.7766 - val_loss: 1.5664 - val_acc: 0.7475\n",
      "Epoch 88/100\n",
      "394/394 [==============================] - 0s 345us/step - loss: 1.5183 - acc: 0.7792 - val_loss: 1.5166 - val_acc: 0.7677\n",
      "Epoch 89/100\n",
      "394/394 [==============================] - 0s 328us/step - loss: 1.4715 - acc: 0.7792 - val_loss: 1.4628 - val_acc: 0.7879\n",
      "Epoch 90/100\n",
      "394/394 [==============================] - 0s 352us/step - loss: 1.4182 - acc: 0.7919 - val_loss: 1.4113 - val_acc: 0.7677\n",
      "Epoch 91/100\n",
      "394/394 [==============================] - 0s 386us/step - loss: 1.3821 - acc: 0.7741 - val_loss: 1.3837 - val_acc: 0.7374\n",
      "Epoch 92/100\n",
      "394/394 [==============================] - 0s 378us/step - loss: 1.3461 - acc: 0.7513 - val_loss: 1.3187 - val_acc: 0.7980\n",
      "Epoch 93/100\n",
      "394/394 [==============================] - 0s 336us/step - loss: 1.2892 - acc: 0.7640 - val_loss: 1.2957 - val_acc: 0.7576\n",
      "Epoch 94/100\n",
      "394/394 [==============================] - 0s 326us/step - loss: 1.2507 - acc: 0.7716 - val_loss: 1.2418 - val_acc: 0.7677\n",
      "Epoch 95/100\n",
      "394/394 [==============================] - 0s 349us/step - loss: 1.2019 - acc: 0.7665 - val_loss: 1.2041 - val_acc: 0.7778\n",
      "Epoch 96/100\n",
      "394/394 [==============================] - 0s 334us/step - loss: 1.1615 - acc: 0.7792 - val_loss: 1.1758 - val_acc: 0.7879\n",
      "Epoch 97/100\n",
      "394/394 [==============================] - 0s 373us/step - loss: 1.1380 - acc: 0.7563 - val_loss: 1.1276 - val_acc: 0.7879\n",
      "Epoch 98/100\n",
      "394/394 [==============================] - 0s 382us/step - loss: 1.1185 - acc: 0.7589 - val_loss: 1.1129 - val_acc: 0.7475\n",
      "Epoch 99/100\n",
      "394/394 [==============================] - 0s 373us/step - loss: 1.0691 - acc: 0.7792 - val_loss: 1.0596 - val_acc: 0.8182\n",
      "Epoch 100/100\n",
      "394/394 [==============================] - 0s 362us/step - loss: 1.0298 - acc: 0.7843 - val_loss: 1.0639 - val_acc: 0.7475\n"
     ]
    }
   ],
   "source": [
    "model_train = model.fit(train_X, train_label, epochs=epochs, batch_size=32, validation_data=(valid_X, valid_label))"
   ]
  },
  {
   "cell_type": "code",
   "execution_count": 55,
   "metadata": {},
   "outputs": [
    {
     "data": {
      "image/png": "[encoded data removed]",
      "text/plain": [
       "<Figure size 432x288 with 1 Axes>"
      ]
     },
     "metadata": {
      "needs_background": "light"
     },
     "output_type": "display_data"
    },
    {
     "data": {
      "image/png": "[encoded data removed]",
      "text/plain": [
       "<Figure size 432x288 with 1 Axes>"
      ]
     },
     "metadata": {
      "needs_background": "light"
     },
     "output_type": "display_data"
    }
   ],
   "source": [
    "# Plot the training accuracy\n",
    "accuracy = model_train.history['acc']\n",
    "val_accuracy = model_train.history['val_acc']\n",
    "loss = model_train.history['loss']\n",
    "val_loss = model_train.history['val_loss']\n",
    "epochs = range(len(accuracy))\n",
    "plt.plot(epochs, accuracy, 'bo', label='Training accuracy')\n",
    "plt.plot(epochs, val_accuracy, 'b', label='Validation accuracy')\n",
    "plt.title('Training and validation accuracy')\n",
    "plt.legend()\n",
    "plt.figure()\n",
    "plt.plot(epochs, loss, 'bo', label='Training loss')\n",
    "plt.plot(epochs, val_loss, 'b', label='Validation loss')\n",
    "plt.title('Training and validation loss')\n",
    "plt.legend()\n",
    "plt.show()"
   ]
  }
 ],
 "metadata": {
  "kernelspec": {
   "display_name": "Python 3",
   "language": "python",
   "name": "python3"
  },
  "language_info": {
   "codemirror_mode": {
    "name": "ipython",
    "version": 3
   },
   "file_extension": ".py",
   "mimetype": "text/x-python",
   "name": "python",
   "nbconvert_exporter": "python",
   "pygments_lexer": "ipython3",
   "version": "3.5.2"
  }
 },
 "nbformat": 4,
 "nbformat_minor": 2
}
